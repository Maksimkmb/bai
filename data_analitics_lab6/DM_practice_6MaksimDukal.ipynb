{
  "cells": [
    {
      "cell_type": "markdown",
      "metadata": {
        "id": "1i8adKFQS7E-"
      },
      "source": [
        "# **Лабораторна робота 6: Пошук аномалій та вирішення задачі *anomaly detection* за допомогою бібліотек `scikit-learn`та `PyTorch`**\n",
        "**Всі завдання виконуються індивідуально. Використання запозиченого коду буде оцінюватись в 0 балів.**\n",
        "\n",
        "**Лабораторні роботи де в коді буде використаня КИРИЛИЦІ будуть оцінюватись в 20 балів.**"
      ]
    },
    {
      "attachments": {},
      "cell_type": "markdown",
      "metadata": {
        "id": "YvneQUbQRRqZ"
      },
      "source": [
        "### Мета роботи:\n",
        "Ознайомитися з основними методами виявлення аномалій, навчитися використовувати бібліотеки `scikit-learn` та `PyTorch` для реалізації алгоритмів пошуку аномалій, проаналізувати ефективність різних методів на реальних наборах даних з Kaggle.\n",
        "\n",
        "\n",
        "### Опис завдання:\n",
        "\n",
        "1. **Постановка задачі**:\n",
        "   Використовуючи один із доступних наборів даних Kaggle (наприклад, *Credit Card Fraud Detection*, *Network Intrusion*, або інші), вам потрібно розв'язати задачу виявлення аномалій. Основна мета — ідентифікувати аномальні записи серед нормальних. Вибраний набір даних повинен містити мітки аномалій для перевірки результатів.\n",
        "\n",
        "2. **Етапи виконання завдання**:\n",
        "   - Завантажте та підготуйте набір даних.\n",
        "   - Проведіть попередню обробку даних (масштабування, заповнення пропущених значень, видалення нерелевантних ознак).\n",
        "   - Використайте різні методи виявлення аномалій:\n",
        "     - **Методи з бібліотеки scikit-learn**:\n",
        "       - Isolation Forest\n",
        "       - One-Class SVM\n",
        "       - Local Outlier Factor (LOF)\n",
        "     - **Методи з використанням PyTorch**:\n",
        "       - Автоенкодери для виявлення аномалій.\n",
        "   - Порівняйте отримані результати, обчисліть метрики якості (Precision, Recall, F1-Score).\n",
        "   - Оцініть, який метод найкраще підходить для вирішення задачі на вашому наборі даних.\n",
        "\n",
        "### Покрокова інструкція\n",
        "\n",
        "1. **Підготовка середовища**:\n",
        "   - Встановіть необхідні бібліотеки:\n",
        "     ```\n",
        "     pip install scikit-learn torch pandas numpy matplotlib\n",
        "     ```\n",
        "\n",
        "2. **Вибір набору даних з Kaggle**:\n",
        "   Зареєструйтесь на Kaggle та оберіть один із наборів даних для виявлення аномалій. Наприклад:\n",
        "   - [Credit Card Fraud Detection](https://www.kaggle.com/mlg-ulb/creditcardfraud)\n",
        "   - [Network Intrusion Detection](https://www.kaggle.com/xyuanh/benchmarking-datasets)\n",
        "\n",
        "3. **Попередня обробка даних**:\n",
        "   - Завантажте дані та проведіть їхню початкову обробку.\n",
        "   - Масштабуйте ознаки за допомогою `StandardScaler` або `MinMaxScaler`.\n",
        "   - Розділіть дані на навчальну і тестову вибірки.\n",
        "\n",
        "4. **Методи з бібліотеки `scikit-learn`**:\n",
        "\n",
        "   - **Isolation Forest**:\n",
        "     ```\n",
        "     from sklearn.ensemble import IsolationForest\n",
        "     ```\n",
        "\n",
        "   - **One-Class SVM**:\n",
        "     ```\n",
        "     from sklearn.svm import OneClassSVM\n",
        "     ```\n",
        "\n",
        "   - **Local Outlier Factor**:\n",
        "     ```\n",
        "     from sklearn.neighbors import LocalOutlierFactor\n",
        "     ```\n",
        "\n",
        "5. **Методи на основі нейронних мереж (PyTorch)**:\n",
        "\n",
        "   Використайте автоенкодер для пошуку аномалій. Побудуйте нейронну мережу з енкодером і декодером. Під час навчання порівняйте відновлені дані з вхідними та обчисліть помилку. Записи з великою помилкою можуть бути аномаліями.\n",
        "\n",
        "   - **Реалізація автоенкодера**:\n",
        "     ```\n",
        "     import torch\n",
        "     import torch.nn as nn\n",
        "     import torch.optim as optim\n",
        "     ```\n",
        "\n",
        "6. **Оцінка результатів**:\n",
        "   Використовуйте метрики оцінки якості:\n",
        "   - `Precision`, `Recall`, `F1-score`\n",
        "   ```\n",
        "   from sklearn.metrics import classification_report\n",
        "   ```\n",
        "\n",
        "7. **Звіт**:\n",
        "   - Поясніть, який метод дав найкращі результати.\n",
        "   - Проаналізуйте, чому деякі методи працюють краще на вашому наборі даних.\n",
        "   - Оцініть можливості використання глибоких нейронних мереж (автоенкодерів) для вирішення задачі.\n",
        "\n",
        "\n",
        "### Результати, які необхідно надати:\n",
        "1. Код рішення у вигляді Jupyter Notebook з аналізом результатів та поясненнями.\n",
        "\n",
        "\n",
        "### Дедлайн:\n",
        "[23 жовтня 23:59]\n",
        "\n",
        "\n",
        "### Корисні ресурси:\n",
        "- [Документація PyTorch](https://pytorch.org/docs/stable/index.html)\n",
        "- [Документація scikit-learn](https://scikit-learn.org/stable/documentation.html)\n",
        "- [Kaggle Datasets](https://www.kaggle.com/datasets)"
      ]
    },
    {
      "cell_type": "code",
      "execution_count": 1,
      "metadata": {},
      "outputs": [],
      "source": [
        "import pandas as pd\n",
        "import numpy as np\n",
        "import matplotlib.pyplot as plt\n",
        "import seaborn as sns\n",
        "\n",
        "from sklearn.preprocessing import StandardScaler, MinMaxScaler, LabelEncoder\n",
        "from sklearn.model_selection import train_test_split\n",
        "from sklearn.metrics import classification_report, confusion_matrix, precision_score, recall_score, f1_score\n",
        "\n",
        "from sklearn.ensemble import IsolationForest\n",
        "from sklearn.svm import OneClassSVM\n",
        "from sklearn.neighbors import LocalOutlierFactor\n",
        "\n",
        "from sklearn.decomposition import PCA\n",
        "\n",
        "\n",
        "import torch\n",
        "import torch.nn as nn\n",
        "import torch.optim as optim\n",
        "\n",
        "\n",
        "\n"
      ]
    },
    {
      "cell_type": "code",
      "execution_count": 2,
      "metadata": {},
      "outputs": [
        {
          "name": "stdout",
          "output_type": "stream",
          "text": [
            "   Time        V1        V2        V3        V4        V5        V6        V7  \\\n",
            "0   0.0 -1.359807 -0.072781  2.536347  1.378155 -0.338321  0.462388  0.239599   \n",
            "1   0.0  1.191857  0.266151  0.166480  0.448154  0.060018 -0.082361 -0.078803   \n",
            "2   1.0 -1.358354 -1.340163  1.773209  0.379780 -0.503198  1.800499  0.791461   \n",
            "3   1.0 -0.966272 -0.185226  1.792993 -0.863291 -0.010309  1.247203  0.237609   \n",
            "4   2.0 -1.158233  0.877737  1.548718  0.403034 -0.407193  0.095921  0.592941   \n",
            "\n",
            "         V8        V9  ...       V21       V22       V23       V24       V25  \\\n",
            "0  0.098698  0.363787  ... -0.018307  0.277838 -0.110474  0.066928  0.128539   \n",
            "1  0.085102 -0.255425  ... -0.225775 -0.638672  0.101288 -0.339846  0.167170   \n",
            "2  0.247676 -1.514654  ...  0.247998  0.771679  0.909412 -0.689281 -0.327642   \n",
            "3  0.377436 -1.387024  ... -0.108300  0.005274 -0.190321 -1.175575  0.647376   \n",
            "4 -0.270533  0.817739  ... -0.009431  0.798278 -0.137458  0.141267 -0.206010   \n",
            "\n",
            "        V26       V27       V28  Amount  Class  \n",
            "0 -0.189115  0.133558 -0.021053  149.62      0  \n",
            "1  0.125895 -0.008983  0.014724    2.69      0  \n",
            "2 -0.139097 -0.055353 -0.059752  378.66      0  \n",
            "3 -0.221929  0.062723  0.061458  123.50      0  \n",
            "4  0.502292  0.219422  0.215153   69.99      0  \n",
            "\n",
            "[5 rows x 31 columns]\n",
            "<class 'pandas.core.frame.DataFrame'>\n",
            "RangeIndex: 284807 entries, 0 to 284806\n",
            "Data columns (total 31 columns):\n",
            " #   Column  Non-Null Count   Dtype  \n",
            "---  ------  --------------   -----  \n",
            " 0   Time    284807 non-null  float64\n",
            " 1   V1      284807 non-null  float64\n",
            " 2   V2      284807 non-null  float64\n",
            " 3   V3      284807 non-null  float64\n",
            " 4   V4      284807 non-null  float64\n",
            " 5   V5      284807 non-null  float64\n",
            " 6   V6      284807 non-null  float64\n",
            " 7   V7      284807 non-null  float64\n",
            " 8   V8      284807 non-null  float64\n",
            " 9   V9      284807 non-null  float64\n",
            " 10  V10     284807 non-null  float64\n",
            " 11  V11     284807 non-null  float64\n",
            " 12  V12     284807 non-null  float64\n",
            " 13  V13     284807 non-null  float64\n",
            " 14  V14     284807 non-null  float64\n",
            " 15  V15     284807 non-null  float64\n",
            " 16  V16     284807 non-null  float64\n",
            " 17  V17     284807 non-null  float64\n",
            " 18  V18     284807 non-null  float64\n",
            " 19  V19     284807 non-null  float64\n",
            " 20  V20     284807 non-null  float64\n",
            " 21  V21     284807 non-null  float64\n",
            " 22  V22     284807 non-null  float64\n",
            " 23  V23     284807 non-null  float64\n",
            " 24  V24     284807 non-null  float64\n",
            " 25  V25     284807 non-null  float64\n",
            " 26  V26     284807 non-null  float64\n",
            " 27  V27     284807 non-null  float64\n",
            " 28  V28     284807 non-null  float64\n",
            " 29  Amount  284807 non-null  float64\n",
            " 30  Class   284807 non-null  int64  \n",
            "dtypes: float64(30), int64(1)\n",
            "memory usage: 67.4 MB\n",
            "None\n",
            "                Time            V1            V2            V3            V4  \\\n",
            "count  284807.000000  2.848070e+05  2.848070e+05  2.848070e+05  2.848070e+05   \n",
            "mean    94813.859575  1.168375e-15  3.416908e-16 -1.379537e-15  2.074095e-15   \n",
            "std     47488.145955  1.958696e+00  1.651309e+00  1.516255e+00  1.415869e+00   \n",
            "min         0.000000 -5.640751e+01 -7.271573e+01 -4.832559e+01 -5.683171e+00   \n",
            "25%     54201.500000 -9.203734e-01 -5.985499e-01 -8.903648e-01 -8.486401e-01   \n",
            "50%     84692.000000  1.810880e-02  6.548556e-02  1.798463e-01 -1.984653e-02   \n",
            "75%    139320.500000  1.315642e+00  8.037239e-01  1.027196e+00  7.433413e-01   \n",
            "max    172792.000000  2.454930e+00  2.205773e+01  9.382558e+00  1.687534e+01   \n",
            "\n",
            "                 V5            V6            V7            V8            V9  \\\n",
            "count  2.848070e+05  2.848070e+05  2.848070e+05  2.848070e+05  2.848070e+05   \n",
            "mean   9.604066e-16  1.487313e-15 -5.556467e-16  1.213481e-16 -2.406331e-15   \n",
            "std    1.380247e+00  1.332271e+00  1.237094e+00  1.194353e+00  1.098632e+00   \n",
            "min   -1.137433e+02 -2.616051e+01 -4.355724e+01 -7.321672e+01 -1.343407e+01   \n",
            "25%   -6.915971e-01 -7.682956e-01 -5.540759e-01 -2.086297e-01 -6.430976e-01   \n",
            "50%   -5.433583e-02 -2.741871e-01  4.010308e-02  2.235804e-02 -5.142873e-02   \n",
            "75%    6.119264e-01  3.985649e-01  5.704361e-01  3.273459e-01  5.971390e-01   \n",
            "max    3.480167e+01  7.330163e+01  1.205895e+02  2.000721e+01  1.559499e+01   \n",
            "\n",
            "       ...           V21           V22           V23           V24  \\\n",
            "count  ...  2.848070e+05  2.848070e+05  2.848070e+05  2.848070e+05   \n",
            "mean   ...  1.654067e-16 -3.568593e-16  2.578648e-16  4.473266e-15   \n",
            "std    ...  7.345240e-01  7.257016e-01  6.244603e-01  6.056471e-01   \n",
            "min    ... -3.483038e+01 -1.093314e+01 -4.480774e+01 -2.836627e+00   \n",
            "25%    ... -2.283949e-01 -5.423504e-01 -1.618463e-01 -3.545861e-01   \n",
            "50%    ... -2.945017e-02  6.781943e-03 -1.119293e-02  4.097606e-02   \n",
            "75%    ...  1.863772e-01  5.285536e-01  1.476421e-01  4.395266e-01   \n",
            "max    ...  2.720284e+01  1.050309e+01  2.252841e+01  4.584549e+00   \n",
            "\n",
            "                V25           V26           V27           V28         Amount  \\\n",
            "count  2.848070e+05  2.848070e+05  2.848070e+05  2.848070e+05  284807.000000   \n",
            "mean   5.340915e-16  1.683437e-15 -3.660091e-16 -1.227390e-16      88.349619   \n",
            "std    5.212781e-01  4.822270e-01  4.036325e-01  3.300833e-01     250.120109   \n",
            "min   -1.029540e+01 -2.604551e+00 -2.256568e+01 -1.543008e+01       0.000000   \n",
            "25%   -3.171451e-01 -3.269839e-01 -7.083953e-02 -5.295979e-02       5.600000   \n",
            "50%    1.659350e-02 -5.213911e-02  1.342146e-03  1.124383e-02      22.000000   \n",
            "75%    3.507156e-01  2.409522e-01  9.104512e-02  7.827995e-02      77.165000   \n",
            "max    7.519589e+00  3.517346e+00  3.161220e+01  3.384781e+01   25691.160000   \n",
            "\n",
            "               Class  \n",
            "count  284807.000000  \n",
            "mean        0.001727  \n",
            "std         0.041527  \n",
            "min         0.000000  \n",
            "25%         0.000000  \n",
            "50%         0.000000  \n",
            "75%         0.000000  \n",
            "max         1.000000  \n",
            "\n",
            "[8 rows x 31 columns]\n",
            "Time      0\n",
            "V1        0\n",
            "V2        0\n",
            "V3        0\n",
            "V4        0\n",
            "V5        0\n",
            "V6        0\n",
            "V7        0\n",
            "V8        0\n",
            "V9        0\n",
            "V10       0\n",
            "V11       0\n",
            "V12       0\n",
            "V13       0\n",
            "V14       0\n",
            "V15       0\n",
            "V16       0\n",
            "V17       0\n",
            "V18       0\n",
            "V19       0\n",
            "V20       0\n",
            "V21       0\n",
            "V22       0\n",
            "V23       0\n",
            "V24       0\n",
            "V25       0\n",
            "V26       0\n",
            "V27       0\n",
            "V28       0\n",
            "Amount    0\n",
            "Class     0\n",
            "dtype: int64\n"
          ]
        }
      ],
      "source": [
        "df = pd.read_csv('creditcard.csv')\n",
        "print(df.head())\n",
        "\n",
        "print(df.info())\n",
        "\n",
        "print(df.describe())\n",
        "\n",
        "print(df.isnull().sum())\n"
      ]
    },
    {
      "cell_type": "code",
      "execution_count": 16,
      "metadata": {},
      "outputs": [
        {
          "name": "stdout",
          "output_type": "stream",
          "text": [
            "'Class' = 0: 284315\n",
            "'Class' = 1: 492\n"
          ]
        }
      ],
      "source": [
        "count_class_0 = len(df[df['Class'] == 0])\n",
        "count_class_1 = len(df[df['Class'] == 1])\n",
        "\n",
        "print(f\"'Class' = 0: {count_class_0}\")\n",
        "print(f\"'Class' = 1: {count_class_1}\")"
      ]
    },
    {
      "cell_type": "code",
      "execution_count": 6,
      "metadata": {},
      "outputs": [],
      "source": [
        "non_numeric_columns = df.select_dtypes(include=['object']).columns\n",
        "\n",
        "label_encoder = LabelEncoder()\n",
        "for col in non_numeric_columns:\n",
        "    df[col] = label_encoder.fit_transform(df[col])\n",
        "\n",
        "X = df.drop('Class', axis=1)\n",
        "y = df['Class']\n",
        "\n",
        "scaler = StandardScaler()\n",
        "X_scaled = scaler.fit_transform(X)\n",
        "\n",
        "\n",
        "X_train, X_test, y_train, y_test = train_test_split(X_scaled, y, test_size=0.3, random_state=42, stratify=y)\n",
        "\n"
      ]
    },
    {
      "cell_type": "code",
      "execution_count": 7,
      "metadata": {},
      "outputs": [],
      "source": [
        "X_train, X_test, y_train, y_test = train_test_split(X_scaled, y, test_size=0.3, random_state=42, stratify=y)\n"
      ]
    },
    {
      "cell_type": "code",
      "execution_count": 15,
      "metadata": {},
      "outputs": [
        {
          "name": "stdout",
          "output_type": "stream",
          "text": [
            "Number of annomalies in test data is -  3097\n",
            "Isolation Forest:\n",
            "              precision    recall  f1-score   support\n",
            "\n",
            "           0       1.00      0.97      0.98     85295\n",
            "           1       0.04      0.76      0.07       148\n",
            "\n",
            "    accuracy                           0.96     85443\n",
            "   macro avg       0.52      0.86      0.53     85443\n",
            "weighted avg       1.00      0.96      0.98     85443\n",
            "\n"
          ]
        }
      ],
      "source": [
        "iso_forest = IsolationForest(contamination='auto', random_state=42)\n",
        "\n",
        "iso_forest.fit(X_train)\n",
        "\n",
        "y_pred_iso = iso_forest.predict(X_test)\n",
        "\n",
        "y_pred_iso = np.where(y_pred_iso == -1, 1, 0)\n",
        "\n",
        "n_anomalies_in_test_data = np.sum(y_pred_iso)\n",
        "\n",
        "print(\"Number of annomalies in test data is - \", n_anomalies_in_test_data)\n",
        "\n",
        "print(\"Isolation Forest:\")\n",
        "print(classification_report(y_test, y_pred_iso))\n",
        "\n"
      ]
    },
    {
      "cell_type": "code",
      "execution_count": 7,
      "metadata": {},
      "outputs": [
        {
          "name": "stdout",
          "output_type": "stream",
          "text": [
            "Number of annomalies in test data is -  4301\n"
          ]
        }
      ],
      "source": [
        "one_class_svm = OneClassSVM(nu=0.05, kernel='rbf', gamma='scale')\n",
        "one_class_svm.fit(X_train)\n",
        "y_pred_svm = one_class_svm.predict(X_test)\n",
        "\n",
        "\n",
        "\n",
        "y_pred_svm = np.where(y_pred_svm == -1, 1, 0)\n",
        "\n",
        "n_anomalies_in_test_data = np.sum(y_pred_svm)\n",
        "\n",
        "\n",
        "\n",
        "print(\"Number of annomalies in test data is - \", n_anomalies_in_test_data)\n",
        "\n"
      ]
    },
    {
      "cell_type": "code",
      "execution_count": 8,
      "metadata": {},
      "outputs": [
        {
          "name": "stdout",
          "output_type": "stream",
          "text": [
            "              precision    recall  f1-score   support\n",
            "\n",
            "           0       1.00      0.95      0.97     85295\n",
            "           1       0.03      0.84      0.06       148\n",
            "\n",
            "    accuracy                           0.95     85443\n",
            "   macro avg       0.51      0.90      0.52     85443\n",
            "weighted avg       1.00      0.95      0.97     85443\n",
            "\n"
          ]
        }
      ],
      "source": [
        "print(classification_report(y_test, y_pred_svm))"
      ]
    },
    {
      "cell_type": "code",
      "execution_count": 10,
      "metadata": {},
      "outputs": [
        {
          "name": "stdout",
          "output_type": "stream",
          "text": [
            "Number of annomalies in test data is -  5464\n",
            "Local Outlier Factor:\n",
            "              precision    recall  f1-score   support\n",
            "\n",
            "           0       1.00      0.94      0.97     85295\n",
            "           1       0.00      0.18      0.01       148\n",
            "\n",
            "    accuracy                           0.93     85443\n",
            "   macro avg       0.50      0.56      0.49     85443\n",
            "weighted avg       1.00      0.93      0.96     85443\n",
            "\n"
          ]
        }
      ],
      "source": [
        "lof = LocalOutlierFactor(n_neighbors=20, contamination='auto')\n",
        "\n",
        "y_pred_lof = lof.fit_predict(X_test)\n",
        "\n",
        "y_pred_lof = np.where(y_pred_lof == -1, 1, 0)\n",
        "\n",
        "n_anomalies_in_test_data = np.sum(y_pred_lof)\n",
        "\n",
        "print(\"Number of annomalies in test data is - \", n_anomalies_in_test_data)\n",
        "\n",
        "print(\"Local Outlier Factor:\")\n",
        "print(classification_report(y_test, y_pred_lof))\n"
      ]
    },
    {
      "cell_type": "code",
      "execution_count": 10,
      "metadata": {},
      "outputs": [],
      "source": [
        "class Autoencoder(nn.Module):\n",
        "    def __init__(self, input_dim, encoding_dim=14):\n",
        "        super(Autoencoder, self).__init__()\n",
        "        self.encoder = nn.Sequential(\n",
        "            nn.Linear(input_dim, 64),\n",
        "            nn.ReLU(True),\n",
        "            nn.Linear(64, encoding_dim),\n",
        "            nn.ReLU(True)\n",
        "        )\n",
        "        self.decoder = nn.Sequential(\n",
        "            nn.Linear(encoding_dim, 64),\n",
        "            nn.ReLU(True),\n",
        "            nn.Linear(64, input_dim),\n",
        "            nn.Sigmoid()\n",
        "        )\n",
        "\n",
        "    def forward(self, x):\n",
        "        encoded = self.encoder(x)\n",
        "        decoded = self.decoder(encoded)\n",
        "        return decoded\n"
      ]
    },
    {
      "cell_type": "code",
      "execution_count": 11,
      "metadata": {},
      "outputs": [],
      "source": [
        "X_train_tensor = torch.FloatTensor(X_train)\n",
        "X_test_tensor = torch.FloatTensor(X_test)\n"
      ]
    },
    {
      "cell_type": "code",
      "execution_count": 12,
      "metadata": {},
      "outputs": [],
      "source": [
        "input_dim = X_train.shape[1]\n",
        "model = Autoencoder(input_dim=input_dim, encoding_dim=14)\n",
        "criterion = nn.MSELoss()\n",
        "optimizer = optim.Adam(model.parameters(), lr=1e-3)\n"
      ]
    },
    {
      "cell_type": "code",
      "execution_count": 13,
      "metadata": {},
      "outputs": [
        {
          "name": "stdout",
          "output_type": "stream",
          "text": [
            "Epoch [10/100], Loss: 0.4649\n",
            "Epoch [20/100], Loss: 0.2109\n",
            "Epoch [30/100], Loss: 5.9975\n",
            "Epoch [40/100], Loss: 0.5269\n",
            "Epoch [50/100], Loss: 0.4169\n",
            "Epoch [60/100], Loss: 0.3938\n",
            "Epoch [70/100], Loss: 0.2695\n",
            "Epoch [80/100], Loss: 0.2948\n",
            "Epoch [90/100], Loss: 5.0519\n",
            "Epoch [100/100], Loss: 0.4043\n"
          ]
        }
      ],
      "source": [
        "num_epochs = 100\n",
        "batch_size = 64\n",
        "\n",
        "train_dataset = torch.utils.data.TensorDataset(X_train_tensor)\n",
        "train_loader = torch.utils.data.DataLoader(train_dataset, batch_size=batch_size, shuffle=True)\n",
        "\n",
        "for epoch in range(num_epochs):\n",
        "    for data in train_loader:\n",
        "        img = data[0]\n",
        "        output = model(img)\n",
        "        loss = criterion(output, img)\n",
        "        optimizer.zero_grad()\n",
        "        loss.backward()\n",
        "        optimizer.step()\n",
        "    if (epoch+1) % 10 == 0:\n",
        "        print(f'Epoch [{epoch+1}/{num_epochs}], Loss: {loss.item():.4f}')\n"
      ]
    },
    {
      "cell_type": "code",
      "execution_count": 14,
      "metadata": {},
      "outputs": [
        {
          "name": "stdout",
          "output_type": "stream",
          "text": [
            "Autoencoder:\n",
            "              precision    recall  f1-score   support\n",
            "\n",
            "           0       1.00      0.99      1.00     85295\n",
            "           1       0.10      0.60      0.18       148\n",
            "\n",
            "    accuracy                           0.99     85443\n",
            "   macro avg       0.55      0.80      0.59     85443\n",
            "weighted avg       1.00      0.99      0.99     85443\n",
            "\n"
          ]
        }
      ],
      "source": [
        "model.eval()\n",
        "with torch.no_grad():\n",
        "    X_test_pred = model(X_test_tensor)\n",
        "    loss = nn.MSELoss(reduction='none')(X_test_pred, X_test_tensor)\n",
        "    loss = loss.mean(dim=1).numpy()\n",
        "\n",
        "threshold = np.percentile(loss, 99)  \n",
        "\n",
        "y_pred_ae = (loss > threshold).astype(int)\n",
        "\n",
        "print(\"Autoencoder:\")\n",
        "print(classification_report(y_test, y_pred_ae))\n"
      ]
    },
    {
      "cell_type": "code",
      "execution_count": 16,
      "metadata": {},
      "outputs": [
        {
          "name": "stdout",
          "output_type": "stream",
          "text": [
            "                 Method  Precision    Recall  F1-Score\n",
            "0      Isolation Forest   0.036487  0.763514  0.069646\n",
            "1         One-Class SVM   0.029063  0.844595  0.056192\n",
            "2  Local Outlier Factor   0.004758  0.175676  0.009266\n",
            "3           Autoencoder   0.104094  0.601351  0.177468\n"
          ]
        }
      ],
      "source": [
        "results = pd.DataFrame({\n",
        "    'Method': ['Isolation Forest', 'One-Class SVM', 'Local Outlier Factor', 'Autoencoder'],\n",
        "    'Precision': [\n",
        "        precision_score(y_test, y_pred_iso, zero_division=0),\n",
        "        precision_score(y_test, y_pred_svm, zero_division=0),\n",
        "        precision_score(y_test, y_pred_lof, zero_division=0),\n",
        "        precision_score(y_test, y_pred_ae, zero_division=0)\n",
        "    ],\n",
        "    'Recall': [\n",
        "        recall_score(y_test, y_pred_iso, zero_division=0),\n",
        "        recall_score(y_test, y_pred_svm, zero_division=0),\n",
        "        recall_score(y_test, y_pred_lof, zero_division=0),\n",
        "        recall_score(y_test, y_pred_ae, zero_division=0)\n",
        "    ],\n",
        "    'F1-Score': [\n",
        "        f1_score(y_test, y_pred_iso, zero_division=0),\n",
        "        f1_score(y_test, y_pred_svm, zero_division=0),\n",
        "        f1_score(y_test, y_pred_lof, zero_division=0),\n",
        "        f1_score(y_test, y_pred_ae, zero_division=0)\n",
        "    ]\n",
        "})\n",
        "\n",
        "print(results)\n"
      ]
    },
    {
      "cell_type": "code",
      "execution_count": 17,
      "metadata": {},
      "outputs": [
        {
          "data": {
            "image/png": "[encoded data removed]",
            "text/plain": [
              "<Figure size 2000x500 with 8 Axes>"
            ]
          },
          "metadata": {},
          "output_type": "display_data"
        }
      ],
      "source": [
        "methods = ['Isolation Forest', 'One-Class SVM', 'Local Outlier Factor', 'Autoencoder']\n",
        "predictions = [y_pred_iso, y_pred_svm, y_pred_lof, y_pred_ae]\n",
        "\n",
        "plt.figure(figsize=(20, 5))\n",
        "for i, (method, pred) in enumerate(zip(methods, predictions)):\n",
        "    cm = confusion_matrix(y_test, pred)\n",
        "    plt.subplot(1, 4, i+1)\n",
        "    sns.heatmap(cm, annot=True, fmt='d', cmap='Blues')\n",
        "    plt.title(f'Confusion Matrix\\n{method}')\n",
        "    plt.xlabel('Predicted')\n",
        "    plt.ylabel('Actual')\n",
        "plt.tight_layout()\n",
        "plt.show()\n"
      ]
    },
    {
      "attachments": {},
      "cell_type": "markdown",
      "metadata": {},
      "source": [
        "***Висновки:***\n",
        "Хоч загальні результати найвищі в Autoencoder (а саме Precision та F1-Score), проте в нього не найвищий показник Recall (близько 60%). Якщо нам важливий саме показник Recall ми можемо задати нижчу планку для значень похибки відновлень (наприклад 95 а не 99). Нижчу точність мають моделі 'Isolation Forest', 'One-Class SVM', 'Local Outlier Factor' але це тому що я не вказав очікувану кількість аномалій (приблизно 0.1%), якщо вказати цей процент то вони підвищать свої загальні показники але понизять Recall (я це знаю бо я провіряв). Крім того ми не завжди знаєм очікувану кількість аномалій.\n",
        "Тож у висновку найкраще себе показав Autoencoder далі Isolation Forest та One-Class SVM і найгірше Local Outlier Factor."
      ]
    }
  ],
  "metadata": {
    "colab": {
      "provenance": []
    },
    "kernelspec": {
      "display_name": "Python 3",
      "language": "python",
      "name": "python3"
    },
    "language_info": {
      "codemirror_mode": {
        "name": "ipython",
        "version": 3
      },
      "file_extension": ".py",
      "mimetype": "text/x-python",
      "name": "python",
      "nbconvert_exporter": "python",
      "pygments_lexer": "ipython3",
      "version": "3.11.5"
    },
    "vscode": {
      "interpreter": {
        "hash": "ebfc0a8d552866b0d59eba665220a57de3bc06f3ac643b8bef38dd8f66781fdd"
      }
    }
  },
  "nbformat": 4,
  "nbformat_minor": 0
}
